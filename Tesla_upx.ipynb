{
 "cells": [
  {
   "cell_type": "markdown",
   "metadata": {},
   "source": [
    "## Table of Contents\n",
    "1. Importing the packages\n",
    "* Reading dataset from yahoo\n",
    "* Exploring the data\n",
    "* Importing more packages for prediction\n",
    "* Train Test Split\n",
    "* Building the model\n",
    "* Prediction on ts_test\n",
    "* Prediction with Test data"
   ]
  },
  {
   "cell_type": "code",
   "execution_count": 1,
   "metadata": {},
   "outputs": [],
   "source": [
    "# Reading Data\n",
    "import pandas_datareader as pdr\n",
    "\n",
    "# Data Manipulation\n",
    "import pandas as pd\n",
    "import numpy as np\n",
    "from datetime import datetime, timedelta\n",
    "import random\n",
    "\n",
    "# Plotting\n",
    "import matplotlib.pyplot as plt\n",
    "import seaborn as sns"
   ]
  },
  {
   "cell_type": "markdown",
   "metadata": {},
   "source": [
    "2. Reading the dataset "
   ]
  },
  {
   "cell_type": "code",
   "execution_count": 2,
   "metadata": {},
   "outputs": [
    {
     "data": {
      "text/html": [
       "<div>\n",
       "<style scoped>\n",
       "    .dataframe tbody tr th:only-of-type {\n",
       "        vertical-align: middle;\n",
       "    }\n",
       "\n",
       "    .dataframe tbody tr th {\n",
       "        vertical-align: top;\n",
       "    }\n",
       "\n",
       "    .dataframe thead th {\n",
       "        text-align: right;\n",
       "    }\n",
       "</style>\n",
       "<table border=\"1\" class=\"dataframe\">\n",
       "  <thead>\n",
       "    <tr style=\"text-align: right;\">\n",
       "      <th></th>\n",
       "      <th>High</th>\n",
       "      <th>Low</th>\n",
       "      <th>Open</th>\n",
       "      <th>Close</th>\n",
       "      <th>Volume</th>\n",
       "      <th>Adj Close</th>\n",
       "    </tr>\n",
       "    <tr>\n",
       "      <th>Date</th>\n",
       "      <th></th>\n",
       "      <th></th>\n",
       "      <th></th>\n",
       "      <th></th>\n",
       "      <th></th>\n",
       "      <th></th>\n",
       "    </tr>\n",
       "  </thead>\n",
       "  <tbody>\n",
       "    <tr>\n",
       "      <th>2010-06-29</th>\n",
       "      <td>25.00</td>\n",
       "      <td>17.540001</td>\n",
       "      <td>19.000000</td>\n",
       "      <td>23.889999</td>\n",
       "      <td>18766300</td>\n",
       "      <td>23.889999</td>\n",
       "    </tr>\n",
       "    <tr>\n",
       "      <th>2010-06-30</th>\n",
       "      <td>30.42</td>\n",
       "      <td>23.299999</td>\n",
       "      <td>25.790001</td>\n",
       "      <td>23.830000</td>\n",
       "      <td>17187100</td>\n",
       "      <td>23.830000</td>\n",
       "    </tr>\n",
       "    <tr>\n",
       "      <th>2010-07-01</th>\n",
       "      <td>25.92</td>\n",
       "      <td>20.270000</td>\n",
       "      <td>25.000000</td>\n",
       "      <td>21.959999</td>\n",
       "      <td>8218800</td>\n",
       "      <td>21.959999</td>\n",
       "    </tr>\n",
       "    <tr>\n",
       "      <th>2010-07-02</th>\n",
       "      <td>23.10</td>\n",
       "      <td>18.709999</td>\n",
       "      <td>23.000000</td>\n",
       "      <td>19.200001</td>\n",
       "      <td>5139800</td>\n",
       "      <td>19.200001</td>\n",
       "    </tr>\n",
       "    <tr>\n",
       "      <th>2010-07-06</th>\n",
       "      <td>20.00</td>\n",
       "      <td>15.830000</td>\n",
       "      <td>20.000000</td>\n",
       "      <td>16.110001</td>\n",
       "      <td>6866900</td>\n",
       "      <td>16.110001</td>\n",
       "    </tr>\n",
       "  </tbody>\n",
       "</table>\n",
       "</div>"
      ],
      "text/plain": [
       "             High        Low       Open      Close    Volume  Adj Close\n",
       "Date                                                                   \n",
       "2010-06-29  25.00  17.540001  19.000000  23.889999  18766300  23.889999\n",
       "2010-06-30  30.42  23.299999  25.790001  23.830000  17187100  23.830000\n",
       "2010-07-01  25.92  20.270000  25.000000  21.959999   8218800  21.959999\n",
       "2010-07-02  23.10  18.709999  23.000000  19.200001   5139800  19.200001\n",
       "2010-07-06  20.00  15.830000  20.000000  16.110001   6866900  16.110001"
      ]
     },
     "execution_count": 2,
     "metadata": {},
     "output_type": "execute_result"
    }
   ],
   "source": [
    "# get_data_yahoo(inst_ticker, start_date, end_date)\n",
    "df = pdr.get_data_yahoo('TSLA', '29-June-10','18-April-20',)\n",
    "df.head()"
   ]
  },
  {
   "cell_type": "markdown",
   "metadata": {},
   "source": [
    "We require ony 2 columns: Date and Close"
   ]
  },
  {
   "cell_type": "code",
   "execution_count": 3,
   "metadata": {},
   "outputs": [
    {
     "data": {
      "text/html": [
       "<div>\n",
       "<style scoped>\n",
       "    .dataframe tbody tr th:only-of-type {\n",
       "        vertical-align: middle;\n",
       "    }\n",
       "\n",
       "    .dataframe tbody tr th {\n",
       "        vertical-align: top;\n",
       "    }\n",
       "\n",
       "    .dataframe thead th {\n",
       "        text-align: right;\n",
       "    }\n",
       "</style>\n",
       "<table border=\"1\" class=\"dataframe\">\n",
       "  <thead>\n",
       "    <tr style=\"text-align: right;\">\n",
       "      <th></th>\n",
       "      <th>Close</th>\n",
       "    </tr>\n",
       "    <tr>\n",
       "      <th>Date</th>\n",
       "      <th></th>\n",
       "    </tr>\n",
       "  </thead>\n",
       "  <tbody>\n",
       "    <tr>\n",
       "      <th>2020-04-17</th>\n",
       "      <td>753.890015</td>\n",
       "    </tr>\n",
       "    <tr>\n",
       "      <th>2020-04-16</th>\n",
       "      <td>745.210022</td>\n",
       "    </tr>\n",
       "    <tr>\n",
       "      <th>2020-04-15</th>\n",
       "      <td>729.830017</td>\n",
       "    </tr>\n",
       "    <tr>\n",
       "      <th>2020-04-14</th>\n",
       "      <td>709.890015</td>\n",
       "    </tr>\n",
       "    <tr>\n",
       "      <th>2020-04-13</th>\n",
       "      <td>650.950012</td>\n",
       "    </tr>\n",
       "    <tr>\n",
       "      <th>...</th>\n",
       "      <td>...</td>\n",
       "    </tr>\n",
       "    <tr>\n",
       "      <th>2010-07-06</th>\n",
       "      <td>16.110001</td>\n",
       "    </tr>\n",
       "    <tr>\n",
       "      <th>2010-07-02</th>\n",
       "      <td>19.200001</td>\n",
       "    </tr>\n",
       "    <tr>\n",
       "      <th>2010-07-01</th>\n",
       "      <td>21.959999</td>\n",
       "    </tr>\n",
       "    <tr>\n",
       "      <th>2010-06-30</th>\n",
       "      <td>23.830000</td>\n",
       "    </tr>\n",
       "    <tr>\n",
       "      <th>2010-06-29</th>\n",
       "      <td>23.889999</td>\n",
       "    </tr>\n",
       "  </tbody>\n",
       "</table>\n",
       "<p>2468 rows × 1 columns</p>\n",
       "</div>"
      ],
      "text/plain": [
       "                 Close\n",
       "Date                  \n",
       "2020-04-17  753.890015\n",
       "2020-04-16  745.210022\n",
       "2020-04-15  729.830017\n",
       "2020-04-14  709.890015\n",
       "2020-04-13  650.950012\n",
       "...                ...\n",
       "2010-07-06   16.110001\n",
       "2010-07-02   19.200001\n",
       "2010-07-01   21.959999\n",
       "2010-06-30   23.830000\n",
       "2010-06-29   23.889999\n",
       "\n",
       "[2468 rows x 1 columns]"
      ]
     },
     "execution_count": 3,
     "metadata": {},
     "output_type": "execute_result"
    }
   ],
   "source": [
    "df1=df['Close']  # new_df contains only the required columns\n",
    "df2 = df1.sort_index(axis=0,ascending = False)\n",
    "df3 = pd.DataFrame(df2,columns = ['Close'])\n",
    "df3"
   ]
  },
  {
   "cell_type": "code",
   "execution_count": 4,
   "metadata": {},
   "outputs": [
    {
     "data": {
      "text/html": [
       "<div>\n",
       "<style scoped>\n",
       "    .dataframe tbody tr th:only-of-type {\n",
       "        vertical-align: middle;\n",
       "    }\n",
       "\n",
       "    .dataframe tbody tr th {\n",
       "        vertical-align: top;\n",
       "    }\n",
       "\n",
       "    .dataframe thead th {\n",
       "        text-align: right;\n",
       "    }\n",
       "</style>\n",
       "<table border=\"1\" class=\"dataframe\">\n",
       "  <thead>\n",
       "    <tr style=\"text-align: right;\">\n",
       "      <th></th>\n",
       "      <th>Close</th>\n",
       "    </tr>\n",
       "    <tr>\n",
       "      <th>Date</th>\n",
       "      <th></th>\n",
       "    </tr>\n",
       "  </thead>\n",
       "  <tbody>\n",
       "    <tr>\n",
       "      <th>2020-04-07</th>\n",
       "      <td>545.450012</td>\n",
       "    </tr>\n",
       "    <tr>\n",
       "      <th>2020-04-06</th>\n",
       "      <td>516.239990</td>\n",
       "    </tr>\n",
       "    <tr>\n",
       "      <th>2020-04-03</th>\n",
       "      <td>480.010010</td>\n",
       "    </tr>\n",
       "    <tr>\n",
       "      <th>2020-04-02</th>\n",
       "      <td>454.470001</td>\n",
       "    </tr>\n",
       "    <tr>\n",
       "      <th>2020-04-01</th>\n",
       "      <td>481.559998</td>\n",
       "    </tr>\n",
       "  </tbody>\n",
       "</table>\n",
       "</div>"
      ],
      "text/plain": [
       "                 Close\n",
       "Date                  \n",
       "2020-04-07  545.450012\n",
       "2020-04-06  516.239990\n",
       "2020-04-03  480.010010\n",
       "2020-04-02  454.470001\n",
       "2020-04-01  481.559998"
      ]
     },
     "execution_count": 4,
     "metadata": {},
     "output_type": "execute_result"
    }
   ],
   "source": [
    "stocks_df = df3[7:]     \n",
    "Test_data = df3[:7]     #This has data for 7 days from 2020-04-17 to 2020-04-08\n",
    "stocks_df.head()"
   ]
  },
  {
   "cell_type": "markdown",
   "metadata": {},
   "source": [
    "3. Exploring the data"
   ]
  },
  {
   "cell_type": "code",
   "execution_count": 5,
   "metadata": {},
   "outputs": [
    {
     "name": "stdout",
     "output_type": "stream",
     "text": [
      "<class 'pandas.core.frame.DataFrame'>\n",
      "DatetimeIndex: 2461 entries, 2020-04-07 to 2010-06-29\n",
      "Data columns (total 1 columns):\n",
      "Close    2461 non-null float64\n",
      "dtypes: float64(1)\n",
      "memory usage: 38.5 KB\n"
     ]
    }
   ],
   "source": [
    "stocks_df.info()  "
   ]
  },
  {
   "cell_type": "code",
   "execution_count": 6,
   "metadata": {},
   "outputs": [
    {
     "data": {
      "text/html": [
       "<div>\n",
       "<style scoped>\n",
       "    .dataframe tbody tr th:only-of-type {\n",
       "        vertical-align: middle;\n",
       "    }\n",
       "\n",
       "    .dataframe tbody tr th {\n",
       "        vertical-align: top;\n",
       "    }\n",
       "\n",
       "    .dataframe thead th {\n",
       "        text-align: right;\n",
       "    }\n",
       "</style>\n",
       "<table border=\"1\" class=\"dataframe\">\n",
       "  <thead>\n",
       "    <tr style=\"text-align: right;\">\n",
       "      <th></th>\n",
       "      <th>Close</th>\n",
       "    </tr>\n",
       "    <tr>\n",
       "      <th>Date</th>\n",
       "      <th></th>\n",
       "    </tr>\n",
       "  </thead>\n",
       "  <tbody>\n",
       "    <tr>\n",
       "      <th>2010-07-06</th>\n",
       "      <td>16.110001</td>\n",
       "    </tr>\n",
       "    <tr>\n",
       "      <th>2010-07-02</th>\n",
       "      <td>19.200001</td>\n",
       "    </tr>\n",
       "    <tr>\n",
       "      <th>2010-07-01</th>\n",
       "      <td>21.959999</td>\n",
       "    </tr>\n",
       "    <tr>\n",
       "      <th>2010-06-30</th>\n",
       "      <td>23.830000</td>\n",
       "    </tr>\n",
       "    <tr>\n",
       "      <th>2010-06-29</th>\n",
       "      <td>23.889999</td>\n",
       "    </tr>\n",
       "  </tbody>\n",
       "</table>\n",
       "</div>"
      ],
      "text/plain": [
       "                Close\n",
       "Date                 \n",
       "2010-07-06  16.110001\n",
       "2010-07-02  19.200001\n",
       "2010-07-01  21.959999\n",
       "2010-06-30  23.830000\n",
       "2010-06-29  23.889999"
      ]
     },
     "execution_count": 6,
     "metadata": {},
     "output_type": "execute_result"
    }
   ],
   "source": [
    "stocks_df.tail()"
   ]
  },
  {
   "cell_type": "markdown",
   "metadata": {},
   "source": [
    "Our data starts from 29th JUNE 2010 to 7th APRIL 2020"
   ]
  },
  {
   "cell_type": "markdown",
   "metadata": {},
   "source": [
    "Plot the daily returns"
   ]
  },
  {
   "cell_type": "code",
   "execution_count": 7,
   "metadata": {},
   "outputs": [
    {
     "name": "stderr",
     "output_type": "stream",
     "text": [
      "D:\\New folder\\lib\\site-packages\\pandas\\plotting\\_matplotlib\\converter.py:103: FutureWarning: Using an implicitly registered datetime converter for a matplotlib plotting method. The converter was registered by pandas on import. Future versions of pandas will require you to explicitly register matplotlib converters.\n",
      "\n",
      "To register the converters:\n",
      "\t>>> from pandas.plotting import register_matplotlib_converters\n",
      "\t>>> register_matplotlib_converters()\n",
      "  warnings.warn(msg, FutureWarning)\n"
     ]
    },
    {
     "data": {
      "image/png": "[encoded data removed]",
      "text/plain": [
       "<Figure size 720x576 with 1 Axes>"
      ]
     },
     "metadata": {
      "needs_background": "light"
     },
     "output_type": "display_data"
    }
   ],
   "source": [
    "plt.figure(figsize=[10,8])                                   # Setting the figure size\n",
    "plt.plot(stocks_df['Close'])                                 # Plotting the close price\n",
    "plt.xlabel(\"Date\")                                           # Setting the label in x-axis\n",
    "plt.ylabel(\"Close Price\")                                    # Setting the label in y-axis\n",
    "plt.title(\"Close Price Vs Date\")                             # Title\n",
    "plt.show()"
   ]
  },
  {
   "cell_type": "markdown",
   "metadata": {},
   "source": [
    "Calculate the percentage change"
   ]
  },
  {
   "cell_type": "code",
   "execution_count": 8,
   "metadata": {},
   "outputs": [
    {
     "data": {
      "text/plain": [
       "Date\n",
       "2010-06-29         NaN\n",
       "2010-06-30   -0.002511\n",
       "2010-07-01   -0.078473\n",
       "2010-07-02   -0.125683\n",
       "2010-07-06   -0.160938\n",
       "Name: Close, dtype: float64"
      ]
     },
     "execution_count": 8,
     "metadata": {},
     "output_type": "execute_result"
    }
   ],
   "source": [
    "data_pc = df.Close.pct_change()\n",
    "data_pc.head()"
   ]
  },
  {
   "cell_type": "code",
   "execution_count": 9,
   "metadata": {},
   "outputs": [
    {
     "data": {
      "text/plain": [
       "<matplotlib.axes._subplots.AxesSubplot at 0x123bf888>"
      ]
     },
     "execution_count": 9,
     "metadata": {},
     "output_type": "execute_result"
    },
    {
     "data": {
      "image/png": "[encoded data removed]",
      "text/plain": [
       "<Figure size 432x288 with 1 Axes>"
      ]
     },
     "metadata": {
      "needs_background": "light"
     },
     "output_type": "display_data"
    }
   ],
   "source": [
    "data_pc.plot()"
   ]
  },
  {
   "cell_type": "markdown",
   "metadata": {},
   "source": [
    "under standing the perfomance of Tesla when 'WHO' declared 'Emergency' and 'Pandemic'"
   ]
  },
  {
   "cell_type": "code",
   "execution_count": 10,
   "metadata": {},
   "outputs": [
    {
     "data": {
      "text/html": [
       "<div>\n",
       "<style scoped>\n",
       "    .dataframe tbody tr th:only-of-type {\n",
       "        vertical-align: middle;\n",
       "    }\n",
       "\n",
       "    .dataframe tbody tr th {\n",
       "        vertical-align: top;\n",
       "    }\n",
       "\n",
       "    .dataframe thead th {\n",
       "        text-align: right;\n",
       "    }\n",
       "</style>\n",
       "<table border=\"1\" class=\"dataframe\">\n",
       "  <thead>\n",
       "    <tr style=\"text-align: right;\">\n",
       "      <th></th>\n",
       "      <th>pandemic_name</th>\n",
       "      <th>first_case</th>\n",
       "      <th>who_emergency</th>\n",
       "      <th>pandemic_declaration</th>\n",
       "      <th>last_date</th>\n",
       "    </tr>\n",
       "  </thead>\n",
       "  <tbody>\n",
       "    <tr>\n",
       "      <th>0</th>\n",
       "      <td>covid19</td>\n",
       "      <td>2019-11-17</td>\n",
       "      <td>2020-01-30</td>\n",
       "      <td>2020-03-11</td>\n",
       "      <td>2020-07-31</td>\n",
       "    </tr>\n",
       "  </tbody>\n",
       "</table>\n",
       "</div>"
      ],
      "text/plain": [
       "  pandemic_name first_case who_emergency pandemic_declaration  last_date\n",
       "0       covid19 2019-11-17    2020-01-30           2020-03-11 2020-07-31"
      ]
     },
     "execution_count": 10,
     "metadata": {},
     "output_type": "execute_result"
    }
   ],
   "source": [
    "columns_1 = ['pandemic_name','first_case','who_emergency','pandemic_declaration','last_date']\n",
    "ro_list = [['covid19',datetime.strptime('2019-11-17', '%Y-%m-%d'),datetime.strptime('2020-01-30', '%Y-%m-%d'),datetime.strptime('2020-03-11', '%Y-%m-%d'),datetime.strptime('2020-07-31', '%Y-%m-%d')]]\n",
    "covid_timelines = pd.DataFrame(ro_list,columns = columns_1)  \n",
    "covid_timelines"
   ]
  },
  {
   "cell_type": "markdown",
   "metadata": {},
   "source": [
    "Ploting Tesla performance based on timelines 'Sector wise' and 'Index wise'"
   ]
  },
  {
   "cell_type": "code",
   "execution_count": 11,
   "metadata": {},
   "outputs": [],
   "source": [
    "def plot_cumulative_returns(data,tl):\n",
    "    data_cum_ret = (data.pct_change()+1).cumprod()\n",
    "    data_cum_ret.plot(figsize=(10,7),grid=True)\n",
    "    plt.legend(loc='best')\n",
    "    plt.ylabel('Cumulative Returns')\n",
    "    plt.axvline(x=tl.first_case.iloc[0],color='RoyalBlue',linestyle='dashdot',linewidth=3)\n",
    "    plt.axvline(x=tl.who_emergency.iloc[0],color='Red',linestyle='dashdot',linewidth=3)\n",
    "    plt.axvline(x=tl.pandemic_declaration.iloc[0],color='LightSeaGreen',linestyle='dashdot',linewidth=3)\n",
    "    plt.axvspan(tl.last_date.iloc[0], tl.last_date.iloc[0]+timedelta(days=365),color='dodgerblue', alpha=0.2)\n",
    "    plt.show()"
   ]
  },
  {
   "cell_type": "code",
   "execution_count": 12,
   "metadata": {},
   "outputs": [
    {
     "data": {
      "image/png": "[encoded data removed]",
      "text/plain": [
       "<Figure size 720x504 with 1 Axes>"
      ]
     },
     "metadata": {
      "needs_background": "light"
     },
     "output_type": "display_data"
    }
   ],
   "source": [
    "def plot_sector(tl):\n",
    "    sector_list = ['IHE', 'IYW', 'IYF', 'IYK', 'IYZ','ITM', 'IYE','TSLA','NDAQ','TLT','^GSPC', 'CL=F','GC=F']\n",
    "\n",
    "    columns = ['Pharma', 'Technology', 'Financials', 'Consumer Goods',\n",
    "               'Telecom', 'Basic Materials', 'Energy','TESLA','Nasdaq','Treasury Bonds','S&P 500','Crude oil','Gold']\n",
    "\n",
    "    sector_data = pd.DataFrame()\n",
    "    for inst in sector_list:\n",
    "        try:\n",
    "            sector_data[inst] = pdr.get_data_yahoo(inst, tl.first_case.iloc[0]-timedelta(days=30), \n",
    "                                        tl.last_date.iloc[0]+timedelta(days=365))['Close']    \n",
    "        except:\n",
    "            pass\n",
    "    sector_data.columns = columns\n",
    "    plot_cumulative_returns(sector_data, tl)\n",
    "plot_sector(covid_timelines)\n"
   ]
  },
  {
   "cell_type": "markdown",
   "metadata": {},
   "source": [
    "It can be concluded that TESLA out performed 'All Sectors' and 'All Indexes'"
   ]
  },
  {
   "cell_type": "markdown",
   "metadata": {},
   "source": [
    "4. Importing more packages for prediction"
   ]
  },
  {
   "cell_type": "code",
   "execution_count": 13,
   "metadata": {},
   "outputs": [
    {
     "name": "stderr",
     "output_type": "stream",
     "text": [
      "Using TensorFlow backend.\n"
     ]
    }
   ],
   "source": [
    "from keras.models import Sequential                   # Sequential model\n",
    "from keras.layers import Dense                        # For fully connected layers\n",
    "from keras.layers import LSTM                         # For LSTM layers\n",
    "from sklearn.preprocessing import MinMaxScaler        # Scaling the data\n",
    "min_max_scaler = MinMaxScaler()"
   ]
  },
  {
   "cell_type": "code",
   "execution_count": 14,
   "metadata": {},
   "outputs": [
    {
     "data": {
      "text/plain": [
       "2461"
      ]
     },
     "execution_count": 14,
     "metadata": {},
     "output_type": "execute_result"
    }
   ],
   "source": [
    "len(stocks_df)"
   ]
  },
  {
   "cell_type": "markdown",
   "metadata": {},
   "source": [
    "Checking for null values"
   ]
  },
  {
   "cell_type": "code",
   "execution_count": 15,
   "metadata": {},
   "outputs": [
    {
     "data": {
      "text/plain": [
       "Close    0\n",
       "dtype: int64"
      ]
     },
     "execution_count": 15,
     "metadata": {},
     "output_type": "execute_result"
    }
   ],
   "source": [
    "stocks_df.isnull().sum()                                 # There are no null values in the dataframe"
   ]
  },
  {
   "cell_type": "markdown",
   "metadata": {},
   "source": [
    "6. Train Test Split \n",
    "Lets make prediction for 30 days"
   ]
  },
  {
   "cell_type": "code",
   "execution_count": 16,
   "metadata": {},
   "outputs": [],
   "source": [
    "prediction_days = 30\n",
    "ts_train= stocks_df[prediction_days:]       # Remove 30 days from the end for Training data\n",
    "ts_test= stocks_df[:prediction_days]        # Last 30 days values for test"
   ]
  },
  {
   "cell_type": "code",
   "execution_count": 17,
   "metadata": {},
   "outputs": [
    {
     "data": {
      "text/plain": [
       "(2431, 1)"
      ]
     },
     "execution_count": 17,
     "metadata": {},
     "output_type": "execute_result"
    }
   ],
   "source": [
    "ts_train.shape                                             # Checking the number of rows in train data"
   ]
  },
  {
   "cell_type": "code",
   "execution_count": 18,
   "metadata": {},
   "outputs": [
    {
     "data": {
      "text/plain": [
       "(30, 1)"
      ]
     },
     "execution_count": 18,
     "metadata": {},
     "output_type": "execute_result"
    }
   ],
   "source": [
    "ts_test.shape                                              # Checking the number of rows in test data"
   ]
  },
  {
   "cell_type": "code",
   "execution_count": 19,
   "metadata": {},
   "outputs": [
    {
     "data": {
      "text/html": [
       "<div>\n",
       "<style scoped>\n",
       "    .dataframe tbody tr th:only-of-type {\n",
       "        vertical-align: middle;\n",
       "    }\n",
       "\n",
       "    .dataframe tbody tr th {\n",
       "        vertical-align: top;\n",
       "    }\n",
       "\n",
       "    .dataframe thead th {\n",
       "        text-align: right;\n",
       "    }\n",
       "</style>\n",
       "<table border=\"1\" class=\"dataframe\">\n",
       "  <thead>\n",
       "    <tr style=\"text-align: right;\">\n",
       "      <th></th>\n",
       "      <th>Close</th>\n",
       "    </tr>\n",
       "    <tr>\n",
       "      <th>Date</th>\n",
       "      <th></th>\n",
       "    </tr>\n",
       "  </thead>\n",
       "  <tbody>\n",
       "    <tr>\n",
       "      <th>2020-04-07</th>\n",
       "      <td>545.450012</td>\n",
       "    </tr>\n",
       "    <tr>\n",
       "      <th>2020-04-06</th>\n",
       "      <td>516.239990</td>\n",
       "    </tr>\n",
       "    <tr>\n",
       "      <th>2020-04-03</th>\n",
       "      <td>480.010010</td>\n",
       "    </tr>\n",
       "    <tr>\n",
       "      <th>2020-04-02</th>\n",
       "      <td>454.470001</td>\n",
       "    </tr>\n",
       "    <tr>\n",
       "      <th>2020-04-01</th>\n",
       "      <td>481.559998</td>\n",
       "    </tr>\n",
       "    <tr>\n",
       "      <th>2020-03-31</th>\n",
       "      <td>524.000000</td>\n",
       "    </tr>\n",
       "    <tr>\n",
       "      <th>2020-03-30</th>\n",
       "      <td>502.130005</td>\n",
       "    </tr>\n",
       "    <tr>\n",
       "      <th>2020-03-27</th>\n",
       "      <td>514.359985</td>\n",
       "    </tr>\n",
       "    <tr>\n",
       "      <th>2020-03-26</th>\n",
       "      <td>528.159973</td>\n",
       "    </tr>\n",
       "    <tr>\n",
       "      <th>2020-03-25</th>\n",
       "      <td>539.250000</td>\n",
       "    </tr>\n",
       "    <tr>\n",
       "      <th>2020-03-24</th>\n",
       "      <td>505.000000</td>\n",
       "    </tr>\n",
       "    <tr>\n",
       "      <th>2020-03-23</th>\n",
       "      <td>434.290009</td>\n",
       "    </tr>\n",
       "    <tr>\n",
       "      <th>2020-03-20</th>\n",
       "      <td>427.529999</td>\n",
       "    </tr>\n",
       "    <tr>\n",
       "      <th>2020-03-19</th>\n",
       "      <td>427.640015</td>\n",
       "    </tr>\n",
       "    <tr>\n",
       "      <th>2020-03-18</th>\n",
       "      <td>361.220001</td>\n",
       "    </tr>\n",
       "    <tr>\n",
       "      <th>2020-03-17</th>\n",
       "      <td>430.200012</td>\n",
       "    </tr>\n",
       "    <tr>\n",
       "      <th>2020-03-16</th>\n",
       "      <td>445.070007</td>\n",
       "    </tr>\n",
       "    <tr>\n",
       "      <th>2020-03-13</th>\n",
       "      <td>546.619995</td>\n",
       "    </tr>\n",
       "    <tr>\n",
       "      <th>2020-03-12</th>\n",
       "      <td>560.549988</td>\n",
       "    </tr>\n",
       "    <tr>\n",
       "      <th>2020-03-11</th>\n",
       "      <td>634.229980</td>\n",
       "    </tr>\n",
       "    <tr>\n",
       "      <th>2020-03-10</th>\n",
       "      <td>645.330017</td>\n",
       "    </tr>\n",
       "    <tr>\n",
       "      <th>2020-03-09</th>\n",
       "      <td>608.000000</td>\n",
       "    </tr>\n",
       "    <tr>\n",
       "      <th>2020-03-06</th>\n",
       "      <td>703.479980</td>\n",
       "    </tr>\n",
       "    <tr>\n",
       "      <th>2020-03-05</th>\n",
       "      <td>724.539978</td>\n",
       "    </tr>\n",
       "    <tr>\n",
       "      <th>2020-03-04</th>\n",
       "      <td>749.500000</td>\n",
       "    </tr>\n",
       "    <tr>\n",
       "      <th>2020-03-03</th>\n",
       "      <td>745.510010</td>\n",
       "    </tr>\n",
       "    <tr>\n",
       "      <th>2020-03-02</th>\n",
       "      <td>743.619995</td>\n",
       "    </tr>\n",
       "    <tr>\n",
       "      <th>2020-02-28</th>\n",
       "      <td>667.989990</td>\n",
       "    </tr>\n",
       "    <tr>\n",
       "      <th>2020-02-27</th>\n",
       "      <td>679.000000</td>\n",
       "    </tr>\n",
       "    <tr>\n",
       "      <th>2020-02-26</th>\n",
       "      <td>778.799988</td>\n",
       "    </tr>\n",
       "  </tbody>\n",
       "</table>\n",
       "</div>"
      ],
      "text/plain": [
       "                 Close\n",
       "Date                  \n",
       "2020-04-07  545.450012\n",
       "2020-04-06  516.239990\n",
       "2020-04-03  480.010010\n",
       "2020-04-02  454.470001\n",
       "2020-04-01  481.559998\n",
       "2020-03-31  524.000000\n",
       "2020-03-30  502.130005\n",
       "2020-03-27  514.359985\n",
       "2020-03-26  528.159973\n",
       "2020-03-25  539.250000\n",
       "2020-03-24  505.000000\n",
       "2020-03-23  434.290009\n",
       "2020-03-20  427.529999\n",
       "2020-03-19  427.640015\n",
       "2020-03-18  361.220001\n",
       "2020-03-17  430.200012\n",
       "2020-03-16  445.070007\n",
       "2020-03-13  546.619995\n",
       "2020-03-12  560.549988\n",
       "2020-03-11  634.229980\n",
       "2020-03-10  645.330017\n",
       "2020-03-09  608.000000\n",
       "2020-03-06  703.479980\n",
       "2020-03-05  724.539978\n",
       "2020-03-04  749.500000\n",
       "2020-03-03  745.510010\n",
       "2020-03-02  743.619995\n",
       "2020-02-28  667.989990\n",
       "2020-02-27  679.000000\n",
       "2020-02-26  778.799988"
      ]
     },
     "execution_count": 19,
     "metadata": {},
     "output_type": "execute_result"
    }
   ],
   "source": [
    "ts_test"
   ]
  },
  {
   "cell_type": "code",
   "execution_count": 20,
   "metadata": {},
   "outputs": [],
   "source": [
    "# Scaling the train data\n",
    "\n",
    "training_set=ts_train.values\n",
    "training_set = min_max_scaler.fit_transform(training_set)"
   ]
  },
  {
   "cell_type": "markdown",
   "metadata": {},
   "source": [
    "Defining our X and y\n",
    "X is our inputs which is the training data.\n",
    "y is the output, which is training data shifted by 1.\n",
    "\n",
    "For a given day, we want to predict the stock value for the next day."
   ]
  },
  {
   "cell_type": "code",
   "execution_count": 21,
   "metadata": {},
   "outputs": [],
   "source": [
    "x_train=training_set[0:len(training_set)-1]\n",
    "y_train=training_set[1:len(training_set)]"
   ]
  },
  {
   "cell_type": "code",
   "execution_count": 22,
   "metadata": {},
   "outputs": [
    {
     "data": {
      "text/plain": [
       "array([[0.86966792],\n",
       "       [0.90724473],\n",
       "       [0.98178836],\n",
       "       [0.98002483],\n",
       "       [1.        ]])"
      ]
     },
     "execution_count": 22,
     "metadata": {},
     "output_type": "execute_result"
    }
   ],
   "source": [
    "x_train[:5]                                                  # Checking the first 5 rows of the scaled training data"
   ]
  },
  {
   "cell_type": "code",
   "execution_count": 23,
   "metadata": {},
   "outputs": [
    {
     "data": {
      "text/plain": [
       "array([[0.90724473],\n",
       "       [0.98178836],\n",
       "       [0.98002483],\n",
       "       [1.        ],\n",
       "       [0.93454009]])"
      ]
     },
     "execution_count": 23,
     "metadata": {},
     "output_type": "execute_result"
    }
   ],
   "source": [
    "y_train[:5]                                                  # Checking the first 5 rows of the scaled test data"
   ]
  },
  {
   "cell_type": "code",
   "execution_count": 24,
   "metadata": {},
   "outputs": [
    {
     "data": {
      "text/plain": [
       "2430"
      ]
     },
     "execution_count": 24,
     "metadata": {},
     "output_type": "execute_result"
    }
   ],
   "source": [
    "len(x_train)                                                 # We should have same number of records in x_train and y_train"
   ]
  },
  {
   "cell_type": "code",
   "execution_count": 25,
   "metadata": {},
   "outputs": [
    {
     "data": {
      "text/plain": [
       "2430"
      ]
     },
     "execution_count": 25,
     "metadata": {},
     "output_type": "execute_result"
    }
   ],
   "source": [
    "len(y_train)"
   ]
  },
  {
   "cell_type": "markdown",
   "metadata": {},
   "source": [
    "6.Building our model "
   ]
  },
  {
   "cell_type": "code",
   "execution_count": 26,
   "metadata": {},
   "outputs": [],
   "source": [
    "x_train = np.reshape(x_train, (len(x_train), 1, 1))          # We need to reshape the data before it is passed to the model"
   ]
  },
  {
   "cell_type": "code",
   "execution_count": 27,
   "metadata": {},
   "outputs": [],
   "source": [
    "num_units = 32\n",
    "activation_function = 'sigmoid'\n",
    "optimizer = 'adam'\n",
    "loss_function = 'mean_squared_error'\n",
    "batch_size = 5\n",
    "num_epochs = 50"
   ]
  },
  {
   "cell_type": "code",
   "execution_count": 28,
   "metadata": {},
   "outputs": [
    {
     "name": "stdout",
     "output_type": "stream",
     "text": [
      "Epoch 1/50\n",
      "2430/2430 [==============================] - 3s 1ms/step - loss: 0.0166\n",
      "Epoch 2/50\n",
      "2430/2430 [==============================] - 1s 600us/step - loss: 0.0070\n",
      "Epoch 3/50\n",
      "2430/2430 [==============================] - 1s 593us/step - loss: 0.0016\n",
      "Epoch 4/50\n",
      "2430/2430 [==============================] - 1s 512us/step - loss: 2.0070e-04\n",
      "Epoch 5/50\n",
      "2430/2430 [==============================] - 1s 544us/step - loss: 9.0377e-05\n",
      "Epoch 6/50\n",
      "2430/2430 [==============================] - 1s 591us/step - loss: 8.9798e-05\n",
      "Epoch 7/50\n",
      "2430/2430 [==============================] - 2s 651us/step - loss: 9.2267e-05\n",
      "Epoch 8/50\n",
      "2430/2430 [==============================] - 1s 542us/step - loss: 9.6402e-05\n",
      "Epoch 9/50\n",
      "2430/2430 [==============================] - 1s 527us/step - loss: 9.8523e-05\n",
      "Epoch 10/50\n",
      "2430/2430 [==============================] - 1s 351us/step - loss: 9.9046e-05\n",
      "Epoch 11/50\n",
      "2430/2430 [==============================] - 1s 544us/step - loss: 1.0038e-04\n",
      "Epoch 12/50\n",
      "2430/2430 [==============================] - 1s 361us/step - loss: 1.0180e-04\n",
      "Epoch 13/50\n",
      "2430/2430 [==============================] - 1s 391us/step - loss: 1.0268e-04\n",
      "Epoch 14/50\n",
      "2430/2430 [==============================] - 1s 341us/step - loss: 1.0183e-04\n",
      "Epoch 15/50\n",
      "2430/2430 [==============================] - 1s 571us/step - loss: 1.0769e-04\n",
      "Epoch 16/50\n",
      "2430/2430 [==============================] - 1s 493us/step - loss: 1.0178e-04\n",
      "Epoch 17/50\n",
      "2430/2430 [==============================] - 1s 333us/step - loss: 1.0299e-04\n",
      "Epoch 18/50\n",
      "2430/2430 [==============================] - 1s 412us/step - loss: 1.1487e-04\n",
      "Epoch 19/50\n",
      "2430/2430 [==============================] - 1s 319us/step - loss: 1.0455e-04\n",
      "Epoch 20/50\n",
      "2430/2430 [==============================] - 1s 303us/step - loss: 9.8457e-05\n",
      "Epoch 21/50\n",
      "2430/2430 [==============================] - 1s 408us/step - loss: 1.0244e-04\n",
      "Epoch 22/50\n",
      "2430/2430 [==============================] - 1s 602us/step - loss: 1.0154e-04\n",
      "Epoch 23/50\n",
      "2430/2430 [==============================] - 1s 579us/step - loss: 1.0192e-04\n",
      "Epoch 24/50\n",
      "2430/2430 [==============================] - 1s 491us/step - loss: 9.9790e-05 0s - loss: 1.\n",
      "Epoch 25/50\n",
      "2430/2430 [==============================] - 1s 606us/step - loss: 1.0306e-04\n",
      "Epoch 26/50\n",
      "2430/2430 [==============================] - 1s 542us/step - loss: 1.0084e-04\n",
      "Epoch 27/50\n",
      "2430/2430 [==============================] - 1s 502us/step - loss: 1.0120e-04\n",
      "Epoch 28/50\n",
      "2430/2430 [==============================] - 1s 477us/step - loss: 1.0514e-04\n",
      "Epoch 29/50\n",
      "2430/2430 [==============================] - 1s 556us/step - loss: 1.0361e-04\n",
      "Epoch 30/50\n",
      "2430/2430 [==============================] - 1s 537us/step - loss: 1.0903e-04\n",
      "Epoch 31/50\n",
      "2430/2430 [==============================] - 1s 602us/step - loss: 1.0158e-04\n",
      "Epoch 32/50\n",
      "2430/2430 [==============================] - 1s 573us/step - loss: 1.0504e-04\n",
      "Epoch 33/50\n",
      "2430/2430 [==============================] - 1s 536us/step - loss: 1.0107e-04\n",
      "Epoch 34/50\n",
      "2430/2430 [==============================] - 1s 340us/step - loss: 1.0195e-04\n",
      "Epoch 35/50\n",
      "2430/2430 [==============================] - 1s 395us/step - loss: 9.8857e-05\n",
      "Epoch 36/50\n",
      "2430/2430 [==============================] - 1s 412us/step - loss: 1.1199e-04\n",
      "Epoch 37/50\n",
      "2430/2430 [==============================] - 1s 330us/step - loss: 1.0707e-04\n",
      "Epoch 38/50\n",
      "2430/2430 [==============================] - 1s 340us/step - loss: 9.9656e-05\n",
      "Epoch 39/50\n",
      "2430/2430 [==============================] - 1s 368us/step - loss: 1.0553e-04\n",
      "Epoch 40/50\n",
      "2430/2430 [==============================] - 1s 560us/step - loss: 1.0015e-04\n",
      "Epoch 41/50\n",
      "2430/2430 [==============================] - 1s 561us/step - loss: 1.0613e-04\n",
      "Epoch 42/50\n",
      "2430/2430 [==============================] - 1s 571us/step - loss: 1.0302e-04\n",
      "Epoch 43/50\n",
      "2430/2430 [==============================] - 1s 582us/step - loss: 1.0110e-04 0s\n",
      "Epoch 44/50\n",
      "2430/2430 [==============================] - 1s 317us/step - loss: 1.0221e-04\n",
      "Epoch 45/50\n",
      "2430/2430 [==============================] - 1s 313us/step - loss: 1.0142e-04\n",
      "Epoch 46/50\n",
      "2430/2430 [==============================] - 1s 292us/step - loss: 1.0319e-04\n",
      "Epoch 47/50\n",
      "2430/2430 [==============================] - 1s 490us/step - loss: 9.9313e-05\n",
      "Epoch 48/50\n",
      "2430/2430 [==============================] - 1s 507us/step - loss: 1.0695e-04\n",
      "Epoch 49/50\n",
      "2430/2430 [==============================] - 1s 543us/step - loss: 1.0377e-04\n",
      "Epoch 50/50\n",
      "2430/2430 [==============================] - 1s 611us/step - loss: 1.0477e-04\n"
     ]
    },
    {
     "data": {
      "text/plain": [
       "<keras.callbacks.callbacks.History at 0x18e0f988>"
      ]
     },
     "execution_count": 28,
     "metadata": {},
     "output_type": "execute_result"
    }
   ],
   "source": [
    "# Training the data from 2010-06-29 to 2020-04-17 \n",
    "\n",
    "regressor = Sequential()\n",
    "\n",
    "# Adding the input layer and the LSTM layer\n",
    "regressor.add(LSTM(units = num_units, activation = activation_function, input_shape=(None, 1)))\n",
    "\n",
    "# Adding the output layer\n",
    "regressor.add(Dense(units = 1))\n",
    "\n",
    "# Compiling the RNN\n",
    "regressor.compile(optimizer = optimizer, loss = loss_function)\n",
    "\n",
    "# Using the training set to train the model\n",
    "regressor.fit(x_train, y_train, batch_size = batch_size, epochs = num_epochs)"
   ]
  },
  {
   "cell_type": "markdown",
   "metadata": {},
   "source": [
    "7. Prediction on ts_test ¶"
   ]
  },
  {
   "cell_type": "code",
   "execution_count": 29,
   "metadata": {},
   "outputs": [],
   "source": [
    "# We are going to make prediction from 2020-02-26 to 2020-04-07\n",
    "\n",
    "# Preprocess the test data\n",
    "\n",
    "test_set = ts_test.values\n",
    "\n",
    "inputs = np.reshape(test_set, (len(test_set), 1))                        # Reshape before passing in the input\n",
    "inputs = min_max_scaler.transform(inputs)                                # Scaling the data\n",
    "inputs = np.reshape(inputs, (len(inputs), 1, 1))\n",
    "\n",
    "predicted_price = regressor.predict(inputs)                              # Make predictions on the test data\n",
    "predicted_price = min_max_scaler.inverse_transform(predicted_price)      # Inverse transform the predicted price"
   ]
  },
  {
   "cell_type": "code",
   "execution_count": 30,
   "metadata": {},
   "outputs": [
    {
     "data": {
      "text/plain": [
       "array([[539.8715 ],\n",
       "       [511.53455],\n",
       "       [476.2407 ],\n",
       "       [451.26898],\n",
       "       [477.75378],\n",
       "       [519.0732 ],\n",
       "       [497.80783],\n",
       "       [509.707  ],\n",
       "       [523.1114 ],\n",
       "       [533.8659 ],\n",
       "       [500.60187],\n",
       "       [431.48758],\n",
       "       [424.85156],\n",
       "       [424.9596 ],\n",
       "       [359.52466],\n",
       "       [427.47314],\n",
       "       [442.06003],\n",
       "       [541.0042 ],\n",
       "       [554.47656],\n",
       "       [625.285  ],\n",
       "       [635.8831 ],\n",
       "       [600.1673 ],\n",
       "       [691.0851 ],\n",
       "       [710.9402 ],\n",
       "       [734.37335],\n",
       "       [730.63477],\n",
       "       [728.863  ],\n",
       "       [657.4588 ],\n",
       "       [667.91266],\n",
       "       [761.74054]], dtype=float32)"
      ]
     },
     "execution_count": 30,
     "metadata": {},
     "output_type": "execute_result"
    }
   ],
   "source": [
    "# This is the close price of stocks for 30 days\n",
    "predicted_price          "
   ]
  },
  {
   "cell_type": "code",
   "execution_count": 31,
   "metadata": {},
   "outputs": [],
   "source": [
    "error=predicted_price-test_set    # Calculate the error"
   ]
  },
  {
   "cell_type": "code",
   "execution_count": 32,
   "metadata": {},
   "outputs": [
    {
     "data": {
      "text/plain": [
       "array([[ -5.57849121],\n",
       "       [ -4.70544434],\n",
       "       [ -3.76931763],\n",
       "       [ -3.20101929],\n",
       "       [ -3.80621338],\n",
       "       [ -4.92681885],\n",
       "       [ -4.32217407],\n",
       "       [ -4.65298462],\n",
       "       [ -5.04858398],\n",
       "       [ -5.38409424],\n",
       "       [ -4.39813232],\n",
       "       [ -2.8024292 ],\n",
       "       [ -2.67843628],\n",
       "       [ -2.68041992],\n",
       "       [ -1.69534302],\n",
       "       [ -2.72686768],\n",
       "       [ -3.00997925],\n",
       "       [ -5.61578369],\n",
       "       [ -6.07342529],\n",
       "       [ -8.94500732],\n",
       "       [ -9.44689941],\n",
       "       [ -7.83270264],\n",
       "       [-12.39489746],\n",
       "       [-13.59979248],\n",
       "       [-15.12664795],\n",
       "       [-14.87524414],\n",
       "       [-14.75701904],\n",
       "       [-10.53118896],\n",
       "       [-11.08734131],\n",
       "       [-17.05944824]])"
      ]
     },
     "execution_count": 32,
     "metadata": {},
     "output_type": "execute_result"
    }
   ],
   "source": [
    "# Lets have a look at the error values\n",
    "error"
   ]
  },
  {
   "cell_type": "code",
   "execution_count": 33,
   "metadata": {},
   "outputs": [
    {
     "data": {
      "image/png": "[encoded data removed]",
      "text/plain": [
       "<Figure size 640x640 with 1 Axes>"
      ]
     },
     "metadata": {},
     "output_type": "display_data"
    }
   ],
   "source": [
    "# Plot the Actual price and the predicted price\n",
    "\n",
    "plt.figure(figsize=(8, 8), dpi=80, facecolor = 'w', edgecolor = 'k')\n",
    "\n",
    "plt.plot(test_set[:, 0], color='red', label='Real TESLA Price')                      # Actual Price\n",
    "plt.plot(predicted_price[:, 0], color = 'blue', label = 'Predicted Close Price')      # Predicted Price\n",
    "\n",
    "plt.title('TESLA Price Prediction from 2020-02-26 to 2020-04-07', fontsize = 20)\n",
    "plt.xlabel('Time', fontsize=40)\n",
    "plt.ylabel('TESLA Price', fontsize = 40)\n",
    "plt.legend(loc = 'best')\n",
    "plt.show()"
   ]
  },
  {
   "cell_type": "markdown",
   "metadata": {},
   "source": [
    "8. Prediction with test data "
   ]
  },
  {
   "cell_type": "code",
   "execution_count": 34,
   "metadata": {},
   "outputs": [
    {
     "data": {
      "text/plain": [
       "Date\n",
       "2020-04-17    753.890015\n",
       "2020-04-16    745.210022\n",
       "2020-04-15    729.830017\n",
       "2020-04-14    709.890015\n",
       "2020-04-13    650.950012\n",
       "2020-04-09    573.000000\n",
       "2020-04-08    548.840027\n",
       "Name: Close, dtype: float64"
      ]
     },
     "execution_count": 34,
     "metadata": {},
     "output_type": "execute_result"
    }
   ],
   "source": [
    "Test_data\n",
    "test_data1 = Test_data.iloc[:,0]\n",
    "test_data1"
   ]
  },
  {
   "cell_type": "markdown",
   "metadata": {},
   "source": [
    "We need to perform feature engineering on the test price before we can make predictions from the model"
   ]
  },
  {
   "cell_type": "code",
   "execution_count": 35,
   "metadata": {},
   "outputs": [],
   "source": [
    "test_data1=np.array(test_data1)"
   ]
  },
  {
   "cell_type": "code",
   "execution_count": 36,
   "metadata": {},
   "outputs": [],
   "source": [
    "test_data1 =test_data1.reshape(-1,1)                               # Reshape the data before you feed into the model"
   ]
  },
  {
   "cell_type": "code",
   "execution_count": 37,
   "metadata": {},
   "outputs": [],
   "source": [
    "test_input=min_max_scaler.transform(test_data1)                    # Scale the data"
   ]
  },
  {
   "cell_type": "code",
   "execution_count": 38,
   "metadata": {},
   "outputs": [
    {
     "data": {
      "text/plain": [
       "(7, 1)"
      ]
     },
     "execution_count": 38,
     "metadata": {},
     "output_type": "execute_result"
    }
   ],
   "source": [
    "test_input.shape"
   ]
  },
  {
   "cell_type": "code",
   "execution_count": 39,
   "metadata": {},
   "outputs": [],
   "source": [
    "test_input=np.reshape(test_input, (len(test_input), 1, 1))"
   ]
  },
  {
   "cell_type": "code",
   "execution_count": 40,
   "metadata": {},
   "outputs": [],
   "source": [
    "test_prediction=regressor.predict(test_input)                          # Make predictions for the test data"
   ]
  },
  {
   "cell_type": "code",
   "execution_count": 41,
   "metadata": {},
   "outputs": [],
   "source": [
    "test_prediction=min_max_scaler.inverse_transform(test_prediction)      # Inverse transform the predictions"
   ]
  },
  {
   "cell_type": "code",
   "execution_count": 42,
   "metadata": {},
   "outputs": [
    {
     "data": {
      "text/plain": [
       "array([[738.48364],\n",
       "       [730.35364],\n",
       "       [715.9157 ],\n",
       "       [697.13635],\n",
       "       [641.2417 ],\n",
       "       [566.4954 ],\n",
       "       [543.1532 ]], dtype=float32)"
      ]
     },
     "execution_count": 42,
     "metadata": {},
     "output_type": "execute_result"
    }
   ],
   "source": [
    "test_prediction"
   ]
  },
  {
   "cell_type": "code",
   "execution_count": 43,
   "metadata": {},
   "outputs": [
    {
     "data": {
      "text/plain": [
       "Date\n",
       "2020-04-17    753.890015\n",
       "2020-04-16    745.210022\n",
       "2020-04-15    729.830017\n",
       "2020-04-14    709.890015\n",
       "2020-04-13    650.950012\n",
       "2020-04-09    573.000000\n",
       "2020-04-08    548.840027\n",
       "Name: Close, dtype: float64"
      ]
     },
     "execution_count": 43,
     "metadata": {},
     "output_type": "execute_result"
    }
   ],
   "source": [
    "Test_data.iloc[:,0]"
   ]
  }
 ],
 "metadata": {
  "kernelspec": {
   "display_name": "Python 3",
   "language": "python",
   "name": "python3"
  },
  "language_info": {
   "codemirror_mode": {
    "name": "ipython",
    "version": 3
   },
   "file_extension": ".py",
   "mimetype": "text/x-python",
   "name": "python",
   "nbconvert_exporter": "python",
   "pygments_lexer": "ipython3",
   "version": "3.7.4"
  }
 },
 "nbformat": 4,
 "nbformat_minor": 2
}
